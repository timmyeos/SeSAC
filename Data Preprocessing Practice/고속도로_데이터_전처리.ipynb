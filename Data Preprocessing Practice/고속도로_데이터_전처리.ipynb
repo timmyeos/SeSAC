{
 "cells": [
  {
   "cell_type": "markdown",
   "metadata": {},
   "source": [
    "# Data\n",
    "\n",
    "AI Hub의 [교통문제 해결을 위한 CCTV 교통 영상(고속도로)](https://aihub.or.kr/aihubdata/data/view.do?currMenu=115&topMenu=100&aihubDataSe=realm&dataSetSn=164)의 Training/바운딩박스/[원천]1-3.수도권영동선 데이터 사용"
   ]
  },
  {
   "cell_type": "markdown",
   "metadata": {},
   "source": [
    "# ENV"
   ]
  },
  {
   "cell_type": "code",
   "execution_count": 156,
   "metadata": {},
   "outputs": [],
   "source": [
    "import glob\n",
    "import csv\n",
    "\n",
    "import pandas as pd\n",
    "import seaborn as sns"
   ]
  },
  {
   "cell_type": "markdown",
   "metadata": {},
   "source": [
    "# 파일 불러오기"
   ]
  },
  {
   "cell_type": "code",
   "execution_count": 157,
   "metadata": {},
   "outputs": [],
   "source": [
    "# '[원천]1-3.수도권영동선'의 하위 폴더들 찾기\n",
    "data_path = \".\\교통문제 해결을 위한 CCTV 교통 영상(고속도로)\\Training\\바운딩박스\\[[]원천[]]1-3.수도권영동선\\*\"\n",
    "folder_name_list = glob.glob(data_path)"
   ]
  },
  {
   "cell_type": "code",
   "execution_count": 158,
   "metadata": {},
   "outputs": [],
   "source": [
    "# 원하는 폴더명만 남기기\n",
    "folder_name_list = list(map(lambda x: x.split('\\\\')[-1], folder_name_list))\n",
    "# folder_name_list, len(folder_name_list)"
   ]
  },
  {
   "cell_type": "markdown",
   "metadata": {},
   "source": [
    "# CSV 파일 만들기"
   ]
  },
  {
   "cell_type": "code",
   "execution_count": 159,
   "metadata": {},
   "outputs": [],
   "source": [
    "filename = \"highway.csv\"\n",
    "f = open(filename, \"w\", newline=\"\")\n",
    "writer = csv.writer(f)\n",
    "\n",
    "# 폴더명 예시: Suwon_CH08_20200720_1700_MON_9m_NH_highway_OW5_sunny_FHD\n",
    "# csv 타이틀 제목\n",
    "title = \"city CH date time_int time_str dayofweek meter busy road way weather video\".split()\n",
    "\n",
    "# csv에 title 추가\n",
    "writer.writerow(title)\n",
    "\n",
    "# csv에 한 행씩 content 추가\n",
    "for name in folder_name_list:\n",
    "    name_splited = name.split('_')\n",
    "\n",
    "    # 시간 HH:MM -> dawn | daytime | nighttime\n",
    "    time = int(name_splited[3])\n",
    "\n",
    "    if 600 <= time < 900:\n",
    "        name_splited.insert(4, \"dawn\")\n",
    "    elif 900 <= time <= 1700:\n",
    "        name_splited.insert(4, \"daytime\")\n",
    "    else:\n",
    "        name_splited.insert(4, \"nighttime\")\n",
    "    \n",
    "    writer.writerow(name_splited)\n",
    "\n",
    "\n",
    "f.close()"
   ]
  },
  {
   "cell_type": "markdown",
   "metadata": {},
   "source": [
    "# 시각화"
   ]
  },
  {
   "cell_type": "code",
   "execution_count": 160,
   "metadata": {},
   "outputs": [
    {
     "data": {
      "text/html": [
       "<div>\n",
       "<style scoped>\n",
       "    .dataframe tbody tr th:only-of-type {\n",
       "        vertical-align: middle;\n",
       "    }\n",
       "\n",
       "    .dataframe tbody tr th {\n",
       "        vertical-align: top;\n",
       "    }\n",
       "\n",
       "    .dataframe thead th {\n",
       "        text-align: right;\n",
       "    }\n",
       "</style>\n",
       "<table border=\"1\" class=\"dataframe\">\n",
       "  <thead>\n",
       "    <tr style=\"text-align: right;\">\n",
       "      <th></th>\n",
       "      <th>city</th>\n",
       "      <th>CH</th>\n",
       "      <th>date</th>\n",
       "      <th>time_int</th>\n",
       "      <th>time_str</th>\n",
       "      <th>dayofweek</th>\n",
       "      <th>meter</th>\n",
       "      <th>busy</th>\n",
       "      <th>road</th>\n",
       "      <th>way</th>\n",
       "      <th>weather</th>\n",
       "      <th>video</th>\n",
       "    </tr>\n",
       "  </thead>\n",
       "  <tbody>\n",
       "    <tr>\n",
       "      <th>0</th>\n",
       "      <td>Suwon</td>\n",
       "      <td>CH08</td>\n",
       "      <td>20200720</td>\n",
       "      <td>1700</td>\n",
       "      <td>daytime</td>\n",
       "      <td>MON</td>\n",
       "      <td>9m</td>\n",
       "      <td>NH</td>\n",
       "      <td>highway</td>\n",
       "      <td>OW5</td>\n",
       "      <td>sunny</td>\n",
       "      <td>FHD</td>\n",
       "    </tr>\n",
       "    <tr>\n",
       "      <th>1</th>\n",
       "      <td>Suwon</td>\n",
       "      <td>CH08</td>\n",
       "      <td>20200720</td>\n",
       "      <td>1730</td>\n",
       "      <td>nighttime</td>\n",
       "      <td>MON</td>\n",
       "      <td>9m</td>\n",
       "      <td>NH</td>\n",
       "      <td>highway</td>\n",
       "      <td>OW5</td>\n",
       "      <td>sunny</td>\n",
       "      <td>FHD</td>\n",
       "    </tr>\n",
       "    <tr>\n",
       "      <th>2</th>\n",
       "      <td>Suwon</td>\n",
       "      <td>CH08</td>\n",
       "      <td>20200720</td>\n",
       "      <td>1800</td>\n",
       "      <td>nighttime</td>\n",
       "      <td>MON</td>\n",
       "      <td>9m</td>\n",
       "      <td>NH</td>\n",
       "      <td>highway</td>\n",
       "      <td>OW5</td>\n",
       "      <td>sunny</td>\n",
       "      <td>FHD</td>\n",
       "    </tr>\n",
       "    <tr>\n",
       "      <th>3</th>\n",
       "      <td>Suwon</td>\n",
       "      <td>CH08</td>\n",
       "      <td>20200720</td>\n",
       "      <td>1900</td>\n",
       "      <td>nighttime</td>\n",
       "      <td>MON</td>\n",
       "      <td>9m</td>\n",
       "      <td>NH</td>\n",
       "      <td>highway</td>\n",
       "      <td>OW5</td>\n",
       "      <td>sunny</td>\n",
       "      <td>FHD</td>\n",
       "    </tr>\n",
       "    <tr>\n",
       "      <th>4</th>\n",
       "      <td>Suwon</td>\n",
       "      <td>CH08</td>\n",
       "      <td>20200720</td>\n",
       "      <td>1930</td>\n",
       "      <td>nighttime</td>\n",
       "      <td>MON</td>\n",
       "      <td>9m</td>\n",
       "      <td>NH</td>\n",
       "      <td>highway</td>\n",
       "      <td>OW5</td>\n",
       "      <td>sunny</td>\n",
       "      <td>FHD</td>\n",
       "    </tr>\n",
       "  </tbody>\n",
       "</table>\n",
       "</div>"
      ],
      "text/plain": [
       "    city    CH      date  time_int   time_str dayofweek meter busy     road  \\\n",
       "0  Suwon  CH08  20200720      1700    daytime       MON    9m   NH  highway   \n",
       "1  Suwon  CH08  20200720      1730  nighttime       MON    9m   NH  highway   \n",
       "2  Suwon  CH08  20200720      1800  nighttime       MON    9m   NH  highway   \n",
       "3  Suwon  CH08  20200720      1900  nighttime       MON    9m   NH  highway   \n",
       "4  Suwon  CH08  20200720      1930  nighttime       MON    9m   NH  highway   \n",
       "\n",
       "   way weather video  \n",
       "0  OW5   sunny   FHD  \n",
       "1  OW5   sunny   FHD  \n",
       "2  OW5   sunny   FHD  \n",
       "3  OW5   sunny   FHD  \n",
       "4  OW5   sunny   FHD  "
      ]
     },
     "execution_count": 160,
     "metadata": {},
     "output_type": "execute_result"
    }
   ],
   "source": [
    "folders = pd.read_csv('highway.csv')\n",
    "folders.head()"
   ]
  },
  {
   "cell_type": "code",
   "execution_count": 161,
   "metadata": {},
   "outputs": [
    {
     "name": "stdout",
     "output_type": "stream",
     "text": [
      "총 데이터 개수: 117\n"
     ]
    }
   ],
   "source": [
    "print(\"총 데이터 개수:\", len(folders))"
   ]
  },
  {
   "cell_type": "markdown",
   "metadata": {},
   "source": [
    "## 시간대 분포 시각화\n",
    "\n",
    "- dawn (06:00~08:59)\n",
    "- daytime (09:00~17:00)\n",
    "- nighttime (17:01~06:00)"
   ]
  },
  {
   "cell_type": "code",
   "execution_count": 162,
   "metadata": {},
   "outputs": [
    {
     "data": {
      "text/plain": [
       "(0.0, 100.0)"
      ]
     },
     "execution_count": 162,
     "metadata": {},
     "output_type": "execute_result"
    },
    {
     "data": {
      "image/png": "[encoded data removed]",
      "text/plain": [
       "<Figure size 640x480 with 1 Axes>"
      ]
     },
     "metadata": {},
     "output_type": "display_data"
    }
   ],
   "source": [
    "time_ax = sns.countplot(x='time_str', data=folders,\n",
    "                   palette = sns.color_palette(\"pastel\"), order = folders['time_str'].value_counts().index)\n",
    "\n",
    "# countplot에 값 표시\n",
    "for p in time_ax.patches:\n",
    "    height = p.get_height()\n",
    "    # count\n",
    "    time_ax.text(p.get_x() + p.get_width() / 2. , height + 3, \n",
    "                 int(height), ha = 'center', size = 12)\n",
    "    # percentage\n",
    "    time_ax.text(p.get_x() + p.get_width() / 2. , height//2-1, \n",
    "                 f'{(p.get_height()/len(folders))*100: 1.1f}%', ha = 'center', size = 12, color='royalblue')\n",
    "time_ax.set_ylim(0, 100)"
   ]
  },
  {
   "cell_type": "markdown",
   "metadata": {},
   "source": [
    "## 날씨 분포 시각화\n",
    "\n",
    "- sunny\n",
    "- rainy\n",
    "- snow"
   ]
  },
  {
   "cell_type": "code",
   "execution_count": 163,
   "metadata": {},
   "outputs": [
    {
     "data": {
      "text/plain": [
       "(0.0, 100.0)"
      ]
     },
     "execution_count": 163,
     "metadata": {},
     "output_type": "execute_result"
    },
    {
     "data": {
      "image/png": "[encoded data removed]",
      "text/plain": [
       "<Figure size 640x480 with 1 Axes>"
      ]
     },
     "metadata": {},
     "output_type": "display_data"
    }
   ],
   "source": [
    "weather_ax = sns.countplot(x='weather', data=folders,\n",
    "                   palette = sns.color_palette(\"pastel\"), order = folders['weather'].value_counts().index)\n",
    "\n",
    "# countplot에 값 표시\n",
    "for p in weather_ax.patches:\n",
    "    height = p.get_height()\n",
    "    # count\n",
    "    weather_ax.text(p.get_x() + p.get_width() / 2. , height + 1, \n",
    "                    int(height), ha = 'center', size = 12)\n",
    "    # percentage\n",
    "    weather_ax.text(p.get_x() + p.get_width() / 2. , height//2-1, \n",
    "                 f'{(p.get_height()/len(folders))*100: 1.1f}%', ha = 'center', size = 12, color='royalblue')\n",
    "weather_ax.set_ylim(0, 100)"
   ]
  },
  {
   "cell_type": "code",
   "execution_count": null,
   "metadata": {},
   "outputs": [],
   "source": []
  }
 ],
 "metadata": {
  "kernelspec": {
   "display_name": "base",
   "language": "python",
   "name": "python3"
  },
  "language_info": {
   "codemirror_mode": {
    "name": "ipython",
    "version": 3
   },
   "file_extension": ".py",
   "mimetype": "text/x-python",
   "name": "python",
   "nbconvert_exporter": "python",
   "pygments_lexer": "ipython3",
   "version": "3.11.5"
  }
 },
 "nbformat": 4,
 "nbformat_minor": 2
}
